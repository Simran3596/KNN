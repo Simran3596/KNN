{
 "cells": [
  {
   "cell_type": "code",
   "execution_count": 3,
   "metadata": {},
   "outputs": [],
   "source": [
    "import  pandas as pd\n",
    "from sklearn.metrics import  *\n",
    "import os\n",
    "\n",
    "\n",
    "data=pd.read_csv(\"C:\\\\ML\\\\loan prediction.csv\")\n",
    "\n",
    "#preprocessing\n",
    "data.isnull().sum()\n",
    "\n",
    "#Missing categorical values with mode\n",
    "data['Gender'].fillna(data['Gender'].mode()[0],inplace=True)\n",
    "data['Married'].fillna(data['Married'].mode()[0],inplace=True)\n",
    "data['Dependents'].fillna(data['Dependents'].mode()[0],inplace=True)\n",
    "data['Self_Employed'].fillna(data['Self_Employed'].mode()[0],inplace=True)\n",
    "data['Credit_History'].fillna(data['Credit_History'].mode()[0],inplace=True)\n",
    "data['Loan_Amount_Term'].fillna(data['Loan_Amount_Term'].mode()[0],inplace=True)\n",
    "\n",
    "#Median ,not mean because there are outliers in loan amount\n",
    "data['LoanAmount'].fillna(data['LoanAmount'].median(),inplace=True)\n",
    "\n",
    "#Dummy variable\n",
    "data1= data.iloc[:,1:-1]\n",
    "data1=pd.get_dummies(data1,columns=['Gender','Married','Dependents','Education','Self_Employed','Credit_History','Property_Area'],drop_first=True)\n",
    "\n",
    "X=data1.values\n",
    "y=data.iloc[:,-1].values\n",
    "\n",
    "\n",
    "from sklearn.model_selection import train_test_split\n",
    "X_train,X_test,y_train,y_test=train_test_split(X,y,test_size=.25,random_state=10)\n",
    "\n",
    "\n",
    "#scaling\n",
    "\n"
   ]
  },
  {
   "cell_type": "code",
   "execution_count": 18,
   "metadata": {},
   "outputs": [],
   "source": [
    "from sklearn.preprocessing import StandardScaler\n",
    "sc=StandardScaler()"
   ]
  },
  {
   "cell_type": "code",
   "execution_count": 19,
   "metadata": {},
   "outputs": [],
   "source": [
    "X_train=sc.fit_transform(X_train)"
   ]
  },
  {
   "cell_type": "code",
   "execution_count": 20,
   "metadata": {},
   "outputs": [],
   "source": [
    "X_test=sc.transform(X_test)"
   ]
  },
  {
   "cell_type": "code",
   "execution_count": 38,
   "metadata": {},
   "outputs": [
    {
     "name": "stdout",
     "output_type": "stream",
     "text": [
      "The accuracy on training data is:0.830\n",
      "The accuracy on testing data is:0.786\n"
     ]
    }
   ],
   "source": [
    "from sklearn.neighbors import  KNeighborsClassifier\n",
    "knn=KNeighborsClassifier(n_neighbors=5)\n",
    "knn.fit(X_train,y_train)\n",
    "y_pred=knn.predict(X_test)\n",
    "\n",
    "\n",
    "print('The accuracy on training data is:{:.3f}'.format(knn.score(X_train,y_train)))  #model evaluation\n",
    "print('The accuracy on testing data is:{:.3f}'.format(knn.score(X_test,y_test)))\n",
    "\n"
   ]
  },
  {
   "cell_type": "code",
   "execution_count": 39,
   "metadata": {},
   "outputs": [
    {
     "name": "stdout",
     "output_type": "stream",
     "text": [
      "[[106   7]\n",
      " [ 26  15]]\n"
     ]
    }
   ],
   "source": [
    "from sklearn.metrics import confusion_matrix\n",
    "cm=confusion_matrix(y_test,y_pred,labels=(\"Y\",\"N\"))\n",
    "print(cm)\n",
    "\n",
    "\n"
   ]
  },
  {
   "cell_type": "code",
   "execution_count": 40,
   "metadata": {},
   "outputs": [
    {
     "name": "stdout",
     "output_type": "stream",
     "text": [
      "0.616\n"
     ]
    }
   ],
   "source": [
    "from sklearn.model_selection import cross_val_score\n",
    "accuracies=cross_val_score(knn,X,y,cv=10) # Data not scaled\n",
    "print ('{:.3f}'.format(accuracies.mean()))"
   ]
  },
  {
   "cell_type": "code",
   "execution_count": 41,
   "metadata": {},
   "outputs": [
    {
     "name": "stdout",
     "output_type": "stream",
     "text": [
      "0.775\n"
     ]
    }
   ],
   "source": [
    "#Pipeline\n",
    "from sklearn.pipeline import make_pipeline\n",
    "clf=make_pipeline(sc,knn)\n",
    "accuracies1=cross_val_score(clf,X,y,cv=10)\n",
    "print ('{:.3f}'.format(accuracies1.mean()))"
   ]
  },
  {
   "cell_type": "code",
   "execution_count": 42,
   "metadata": {},
   "outputs": [
    {
     "data": {
      "text/plain": [
       "Text(0.5, 0, 'No. of neighbors')"
      ]
     },
     "execution_count": 42,
     "metadata": {},
     "output_type": "execute_result"
    },
    {
     "data": {
      "image/png": "[encoded data removed]",
      "text/plain": [
       "<Figure size 432x288 with 1 Axes>"
      ]
     },
     "metadata": {
      "needs_background": "light"
     },
     "output_type": "display_data"
    }
   ],
   "source": [
    "#Elbow ,ethod to get optimum value of k\n",
    "import matplotlib.pyplot as plt\n",
    "import numpy as np\n",
    "import pandas as pd\n",
    "neighbors=range(1,20)\n",
    "k_score=[]\n",
    "for n in neighbors:\n",
    "    knn1=KNeighborsClassifier(n_neighbors=n)\n",
    "    clf1=make_pipeline(sc,knn1)\n",
    "    accuracies2=cross_val_score(clf1,X,y,cv=10)\n",
    "    k_score.append(1-accuracies2.mean())\n",
    "    #print ('{:.3f}'.format(1-accuracies2.mean()))\n",
    "\n",
    "\n",
    "plt.plot(neighbors,k_score)\n",
    "plt.ylabel(\"Error\")\n",
    "plt.xlabel(\"No. of neighbors\")"
   ]
  },
  {
   "cell_type": "code",
   "execution_count": 43,
   "metadata": {},
   "outputs": [
    {
     "name": "stdout",
     "output_type": "stream",
     "text": [
      "0.783\n"
     ]
    }
   ],
   "source": [
    "knn2=KNeighborsClassifier(n_neighbors=7)\n",
    "clf3=make_pipeline(sc,knn2)\n",
    "accuracies4=cross_val_score(clf3,X,y,cv=10)\n",
    "print ('{:.3f}'.format(accuracies4.mean()))"
   ]
  },
  {
   "cell_type": "code",
   "execution_count": null,
   "metadata": {},
   "outputs": [],
   "source": []
  }
 ],
 "metadata": {
  "kernelspec": {
   "display_name": "Python 3",
   "language": "python",
   "name": "python3"
  },
  "language_info": {
   "codemirror_mode": {
    "name": "ipython",
    "version": 3
   },
   "file_extension": ".py",
   "mimetype": "text/x-python",
   "name": "python",
   "nbconvert_exporter": "python",
   "pygments_lexer": "ipython3",
   "version": "3.7.6"
  }
 },
 "nbformat": 4,
 "nbformat_minor": 4
}
